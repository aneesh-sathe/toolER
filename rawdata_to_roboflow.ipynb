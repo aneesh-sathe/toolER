{
 "cells": [
  {
   "cell_type": "markdown",
   "id": "4daead00",
   "metadata": {},
   "source": [
    "<div style=\"text-align:center;\">\n",
    "Python script to extract images and respective .xml annotations from m2cai-tool-locations Dataset into 'extracted-data' directory, which is uploaded to Roboflow for conversion of Annotations to YOLOv5 PyTorch format \n",
    "</div>\n"
   ]
  },
  {
   "cell_type": "code",
   "execution_count": 1,
   "id": "c3bdb044",
   "metadata": {},
   "outputs": [],
   "source": [
    "import os\n",
    "import cv2\n",
    "import shutil\n",
    "import random\n",
    "random.seed(42)"
   ]
  },
  {
   "cell_type": "code",
   "execution_count": 2,
   "id": "12727b5f",
   "metadata": {},
   "outputs": [],
   "source": [
    "img_path = os.path.join(os.getcwd(), 'JPEGImages')\n",
    "extract_path = os.path.join(os.getcwd(), 'extracted_data')\n",
    "annot_path = os.path.join(os.getcwd(), 'Annotations')"
   ]
  },
  {
   "cell_type": "code",
   "execution_count": 3,
   "id": "a1f31b79",
   "metadata": {},
   "outputs": [],
   "source": [
    "os.makedirs(extract_path, exist_ok = True)"
   ]
  },
  {
   "cell_type": "code",
   "execution_count": 6,
   "id": "84b7aec3",
   "metadata": {},
   "outputs": [],
   "source": [
    "v2, v3, v4 = [], [], []\n",
    "\n",
    "for image in sorted(os.listdir(img_path)):\n",
    "    if (image.startswith('v03')) and 'flip' not in image:\n",
    "        v3.append(image)\n",
    "    elif (image.startswith('v02')) and 'flip' not in image:\n",
    "        v2.append(image)\n",
    "    elif (image.startswith('v04')) and 'flip' not in image:\n",
    "        v4.append(image)"
   ]
  },
  {
   "cell_type": "code",
   "execution_count": 7,
   "id": "7c614d39",
   "metadata": {},
   "outputs": [
    {
     "data": {
      "text/plain": [
       "(266, 472, 192)"
      ]
     },
     "execution_count": 7,
     "metadata": {},
     "output_type": "execute_result"
    }
   ],
   "source": [
    "len(v2) , len(v3), len(v4)"
   ]
  },
  {
   "cell_type": "code",
   "execution_count": 8,
   "id": "272b97dc",
   "metadata": {},
   "outputs": [],
   "source": [
    "v2 = random.sample(v2, 250)\n",
    "v3 = random.sample(v3, 250)"
   ]
  },
  {
   "cell_type": "code",
   "execution_count": 9,
   "id": "359fd673",
   "metadata": {},
   "outputs": [
    {
     "data": {
      "text/plain": [
       "(250, 250)"
      ]
     },
     "execution_count": 9,
     "metadata": {},
     "output_type": "execute_result"
    }
   ],
   "source": [
    "len(v2), len(v3)"
   ]
  },
  {
   "cell_type": "code",
   "execution_count": 10,
   "id": "0e598a85",
   "metadata": {},
   "outputs": [],
   "source": [
    "selected_images = v2 + v3"
   ]
  },
  {
   "cell_type": "code",
   "execution_count": 11,
   "id": "c652d06a",
   "metadata": {},
   "outputs": [
    {
     "data": {
      "text/plain": [
       "500"
      ]
     },
     "execution_count": 11,
     "metadata": {},
     "output_type": "execute_result"
    }
   ],
   "source": [
    "len(selected_images)"
   ]
  },
  {
   "cell_type": "markdown",
   "id": "0c1152df",
   "metadata": {},
   "source": [
    "### extract images from raw data"
   ]
  },
  {
   "cell_type": "code",
   "execution_count": 12,
   "id": "bb329684",
   "metadata": {},
   "outputs": [],
   "source": [
    "def extract_images(img_path, extract_path, img_list):\n",
    "    for image in os.listdir(img_path):\n",
    "            if image in img_list:\n",
    "                shutil.copy(os.path.join(img_path, image), os.path.join(extract_path, image))\n",
    "    print('Images Extracted...')\n",
    "    \n",
    "def extract_annot(annot_path, extract_path, annot_list):\n",
    "    for annot in os.listdir(annot_path):\n",
    "            if annot in annot_list:\n",
    "                shutil.copy(os.path.join(annot_path, annot), os.path.join(extract_path, annot))\n",
    "    print('Annotations Extracted...')"
   ]
  },
  {
   "cell_type": "code",
   "execution_count": 13,
   "id": "e92f1035",
   "metadata": {},
   "outputs": [
    {
     "name": "stdout",
     "output_type": "stream",
     "text": [
      "Images Extracted...\n"
     ]
    }
   ],
   "source": [
    "extract_images(img_path, extract_path, selected_images)"
   ]
  },
  {
   "cell_type": "code",
   "execution_count": 14,
   "id": "f6d0e748",
   "metadata": {},
   "outputs": [],
   "source": [
    "selected_annot = [image.replace('.jpg', '.xml') for image in selected_images]"
   ]
  },
  {
   "cell_type": "code",
   "execution_count": 15,
   "id": "f6d1ce11",
   "metadata": {},
   "outputs": [
    {
     "data": {
      "text/plain": [
       "500"
      ]
     },
     "execution_count": 15,
     "metadata": {},
     "output_type": "execute_result"
    }
   ],
   "source": [
    "len(selected_annot)"
   ]
  },
  {
   "cell_type": "code",
   "execution_count": 16,
   "id": "214525a3",
   "metadata": {},
   "outputs": [
    {
     "name": "stdout",
     "output_type": "stream",
     "text": [
      "Annotations Extracted...\n"
     ]
    }
   ],
   "source": [
    "extract_annot(annot_path, extract_path, selected_annot)"
   ]
  },
  {
   "cell_type": "markdown",
   "id": "7b1a43a0",
   "metadata": {},
   "source": [
    "### stitch images to generate test video"
   ]
  },
  {
   "cell_type": "code",
   "execution_count": 17,
   "id": "f08b67dc",
   "metadata": {},
   "outputs": [],
   "source": [
    "first_img = cv2.imread(os.path.join(img_path, v4[0]))\n",
    "height, width, _ = first_img.shape"
   ]
  },
  {
   "cell_type": "code",
   "execution_count": 18,
   "id": "4db35a5f",
   "metadata": {},
   "outputs": [],
   "source": [
    "fourcc = cv2.VideoWriter_fourcc(*'mp4v')\n",
    "outWriter = cv2.VideoWriter('input.mp4', fourcc, 30.0, (width, height))"
   ]
  },
  {
   "cell_type": "code",
   "execution_count": 19,
   "id": "4216d8e0",
   "metadata": {},
   "outputs": [],
   "source": [
    "for image_file in v4:\n",
    "    image_path = os.path.join(img_path, image_file)\n",
    "    frame = cv2.imread(image_path)\n",
    "    outWriter.write(frame)\n",
    "outWriter.release()"
   ]
  }
 ],
 "metadata": {
  "kernelspec": {
   "display_name": "Python 3 (ipykernel)",
   "language": "python",
   "name": "python3"
  },
  "language_info": {
   "codemirror_mode": {
    "name": "ipython",
    "version": 3
   },
   "file_extension": ".py",
   "mimetype": "text/x-python",
   "name": "python",
   "nbconvert_exporter": "python",
   "pygments_lexer": "ipython3",
   "version": "3.8.17"
  }
 },
 "nbformat": 4,
 "nbformat_minor": 5
}
