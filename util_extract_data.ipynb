{
 "cells": [
  {
   "cell_type": "code",
   "execution_count": 158,
   "id": "c3bdb044",
   "metadata": {},
   "outputs": [],
   "source": [
    "import os \n",
    "import shutil\n",
    "import random\n",
    "from collections import Counter\n",
    "random.seed(42)"
   ]
  },
  {
   "cell_type": "code",
   "execution_count": 152,
   "id": "12727b5f",
   "metadata": {},
   "outputs": [],
   "source": [
    "img_path = os.path.join(os.getcwd(), 'JPEGImages')\n",
    "extract_path = os.path.join(os.getcwd(), 'extracted_data')\n",
    "annot_path = os.path.join(os.getcwd(), 'Annotations')"
   ]
  },
  {
   "cell_type": "code",
   "execution_count": 153,
   "id": "a1f31b79",
   "metadata": {},
   "outputs": [],
   "source": [
    "os.makedirs(extract_path, exist_ok = True)"
   ]
  },
  {
   "cell_type": "code",
   "execution_count": 166,
   "id": "84b7aec3",
   "metadata": {},
   "outputs": [],
   "source": [
    "v2, v3 = list(), list()\n",
    "for image in sorted(os.listdir(img_path)):\n",
    "    if (image.startswith('v03')) and 'flip' not in image:\n",
    "        v3.append(image)\n",
    "    elif (image.startswith('v02')) and 'flip' not in image:\n",
    "        v2.append(image)"
   ]
  },
  {
   "cell_type": "code",
   "execution_count": 170,
   "id": "7c614d39",
   "metadata": {},
   "outputs": [
    {
     "data": {
      "text/plain": [
       "(266, 472)"
      ]
     },
     "execution_count": 170,
     "metadata": {},
     "output_type": "execute_result"
    }
   ],
   "source": [
    "len(v2) , len(v3)"
   ]
  },
  {
   "cell_type": "code",
   "execution_count": 171,
   "id": "272b97dc",
   "metadata": {},
   "outputs": [],
   "source": [
    "v2 = random.sample(v2, 150)\n",
    "v3 = random.sample(v3, 150)"
   ]
  },
  {
   "cell_type": "code",
   "execution_count": 173,
   "id": "359fd673",
   "metadata": {},
   "outputs": [
    {
     "data": {
      "text/plain": [
       "(150, 150)"
      ]
     },
     "execution_count": 173,
     "metadata": {},
     "output_type": "execute_result"
    }
   ],
   "source": [
    "len(v2), len(v3)"
   ]
  },
  {
   "cell_type": "code",
   "execution_count": 174,
   "id": "0e598a85",
   "metadata": {},
   "outputs": [],
   "source": [
    "selected_images = v2 + v3"
   ]
  },
  {
   "cell_type": "code",
   "execution_count": 177,
   "id": "c652d06a",
   "metadata": {},
   "outputs": [
    {
     "data": {
      "text/plain": [
       "300"
      ]
     },
     "execution_count": 177,
     "metadata": {},
     "output_type": "execute_result"
    }
   ],
   "source": [
    "len(selected_images)"
   ]
  },
  {
   "cell_type": "code",
   "execution_count": 178,
   "id": "bb329684",
   "metadata": {},
   "outputs": [],
   "source": [
    "def extract_images(img_path, extract_path, img_list):\n",
    "    for image in os.listdir(img_path):\n",
    "            if image in img_list:\n",
    "                shutil.copy(os.path.join(img_path, image), os.path.join(extract_path, image))\n",
    "    print('Images Extracted...')\n",
    "    \n",
    "def extract_annot(annot_path, extract_path, annot_list):\n",
    "    for annot in os.listdir(annot_path):\n",
    "            if annot in annot_list:\n",
    "                shutil.copy(os.path.join(annot_path, annot), os.path.join(extract_path, annot))\n",
    "    print('Annotations Extracted...')"
   ]
  },
  {
   "cell_type": "code",
   "execution_count": 179,
   "id": "e92f1035",
   "metadata": {},
   "outputs": [
    {
     "name": "stdout",
     "output_type": "stream",
     "text": [
      "Images Extracted...\n"
     ]
    }
   ],
   "source": [
    "extract_images(img_path, extract_path, selected_images)"
   ]
  },
  {
   "cell_type": "code",
   "execution_count": 180,
   "id": "f6d0e748",
   "metadata": {},
   "outputs": [],
   "source": [
    "selected_annot = [image.replace('.jpg', '.xml') for image in selected_images]"
   ]
  },
  {
   "cell_type": "code",
   "execution_count": 181,
   "id": "f6d1ce11",
   "metadata": {},
   "outputs": [
    {
     "data": {
      "text/plain": [
       "300"
      ]
     },
     "execution_count": 181,
     "metadata": {},
     "output_type": "execute_result"
    }
   ],
   "source": [
    "len(selected_annot)"
   ]
  },
  {
   "cell_type": "code",
   "execution_count": 182,
   "id": "214525a3",
   "metadata": {},
   "outputs": [
    {
     "name": "stdout",
     "output_type": "stream",
     "text": [
      "Annotations Extracted...\n"
     ]
    }
   ],
   "source": [
    "extract_annot(annot_path, extract_path, selected_annot)"
   ]
  }
 ],
 "metadata": {
  "kernelspec": {
   "display_name": "Python 3 (ipykernel)",
   "language": "python",
   "name": "python3"
  },
  "language_info": {
   "codemirror_mode": {
    "name": "ipython",
    "version": 3
   },
   "file_extension": ".py",
   "mimetype": "text/x-python",
   "name": "python",
   "nbconvert_exporter": "python",
   "pygments_lexer": "ipython3",
   "version": "3.8.17"
  }
 },
 "nbformat": 4,
 "nbformat_minor": 5
}
